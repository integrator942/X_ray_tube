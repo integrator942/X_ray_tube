{
 "cells": [
  {
   "cell_type": "code",
   "execution_count": 14,
   "id": "6cc7f868",
   "metadata": {},
   "outputs": [],
   "source": [
    "import spekpy as sp\n",
    "import matplotlib.pyplot as plt # Import pyplot for plotting"
   ]
  },
  {
   "cell_type": "code",
   "execution_count": 3,
   "id": "ab0b1f20",
   "metadata": {},
   "outputs": [
    {
     "name": "stdout",
     "output_type": "stream",
     "text": [
      "3.54600631043076\n"
     ]
    }
   ],
   "source": [
    "r = sp.Spek(kvp=80,th=12) # Generate a spectrum (80 kV, 12 degree tube angle)\n",
    "r.filter('Al', 4.0) # Filter by 4 mm of Al\n",
    "\n",
    "hvl = r.get_hvl1() # Get the 1st half-value layer in mm Al\n",
    "\n",
    "print(hvl) # Print out the HVL value"
   ]
  },
  {
   "cell_type": "code",
   "execution_count": 5,
   "id": "daaf0e3b",
   "metadata": {},
   "outputs": [
    {
     "name": "stdout",
     "output_type": "stream",
     "text": [
      "482129925.4764237\n"
     ]
    }
   ],
   "source": [
    "t = sp.Spek(kvp=50,trans=True,thick=10,targ='Cu') # Target thickness entered in um\n",
    "t.filter('Be', 250e-3) # Filter thickness entered in mm i.e. 250 um of Al; \n",
    "\n",
    "phi = t.get_flu() # Get the total integrated fluence\n",
    "\n",
    "print(phi) # Print out the fluence"
   ]
  },
  {
   "cell_type": "code",
   "execution_count": 27,
   "id": "1d24eaa1",
   "metadata": {},
   "outputs": [
    {
     "name": "stdout",
     "output_type": "stream",
     "text": [
      "70 kV 4.706856269897396 mm Al 18.07994435188672 mGy/400 mAs\n",
      "80 kV 5.3769028517381035 mm Al 26.73871329530921 mGy/400 mAs\n",
      "100 kV 6.580543769751199 mm Al 48.68984561893774 mGy/400 mAs\n",
      "120 kV 7.600000026323783 mm Al 75.81000000002297 mGy/400 mAs\n",
      "140 kV 8.490523606602405 mm Al 107.25446003349018 mGy/400 mAs\n"
     ]
    }
   ],
   "source": [
    "# 2. Generate a spectrum based on TRM specifications\n",
    "s = sp.Spek (kvp=120, th=10.5, z=62.56) #z - расстояние до детектора\n",
    "# 3. Define and apply the tube filtration specified in TRM\n",
    "tube_filtration = 3.9\n",
    "s.filter('Al',tube_filtration)\n",
    "# 4. Define and apply the \"Large\" collimator filter specified in TRM\n",
    "collimator_filtration = [('C',1.94), ('Al',0.19), ('Cu',0.07)]\n",
    "s.multi_filter(collimator_filtration)\n",
    "# 5. Make an adjustment (in mm Al) to match the Half Value Layer stated in TRM \n",
    "extra_filtration = s.get_matl (matl='Al',hvl=7.6) #фильтруем дополнительно, чтобы HVL был равен такому то значению алюминия.\n",
    "s.filter('Al', extra_filtration)\n",
    "# 6. Define the reference CTDI (free, air) from the TRM (mGy/400 mAs)\n",
    "CTDI_ref= 75.81 # Какая-то среда после фильтров из мануала\n",
    "# 7. Calculate the air kerma (uGy) and convert to mGy/400 mAs \n",
    "k120 = s.get_kerma (mas=400) * 1e-3\n",
    "# 8. Calculate air kerma to CTDI conversion factor\n",
    "conversion_factor = CTDI_ref /k120\n",
    "# 9. Loop through tube potentials; calculate and print predictions\n",
    "for pot in [70, 80, 100, 120,140]:\n",
    "    s.set(kvp=pot)\n",
    "    CTDI = conversion_factor * s.get_kerma(mas=400) * 1e-3\n",
    "    hvl=s.get_hvl1()\n",
    "    print (pot, \"kV\", hvl, \"mm Al\", CTDI, \"mGy/400 mAs\")"
   ]
  },
  {
   "cell_type": "code",
   "execution_count": 25,
   "id": "6d47d3dd",
   "metadata": {},
   "outputs": [
    {
     "name": "stdout",
     "output_type": "stream",
     "text": [
      "\n",
      "Running demo script (1 mAs, 100 cm)\n",
      "\n",
      "HVL1:  5.5 mm Al\n",
      "HVL2: 7.19 mm Al\n",
      "Kair:  57.48 uGy\n",
      "Fluence: 1.502284e+08 cm-2\n"
     ]
    },
    {
     "data": {
      "image/png": "[encoded data removed]",
      "text/plain": [
       "<Figure size 640x480 with 1 Axes>"
      ]
     },
     "metadata": {},
     "output_type": "display_data"
    },
    {
     "name": "stdout",
     "output_type": "stream",
     "text": [
      "\n",
      "finished!\n",
      "\n"
     ]
    }
   ],
   "source": [
    "print('\\nRunning demo script (1 mAs, 100 cm)\\n')\n",
    "\n",
    "## Generate spectrum for 100 kV potential, 10 deg. anode angle & 6 mm Al filtr.\n",
    "s=sp.Spek (kvp=100, th=10) # Create the spectrum model\n",
    "s.filter('Al',6.) # Add the filtration [mm]\n",
    "k, phi_k= s.get_spectrum (edges=True) # Get arrays of energy & fluence spectrum\n",
    "\n",
    "## Calculate metrics (1 mAs, 100 cm source-to-detector distance)\n",
    "hvl1=s.get_hvl1() # Get 1st HVL\n",
    "hvl2=s.get_hvl2() # Get 2nd HVL\n",
    "kair=s.get_kerma() # Get air kerma\n",
    "phi=s.get_flu() # Get total fluence\n",
    "\n",
    "## Print metrics to screen\n",
    "print('HVL1: ',round (hvl1,2), 'mm Al')\n",
    "print('HVL2:', round (hvl2, 2), 'mm Al')\n",
    "print('Kair: ',round (kair, 2), 'uGy')\n",
    "print('Fluence:', \"{:e}\".format (phi), 'cm-2')\n",
    "\n",
    "## Plot the x-ray spectrum                                                                                                                           \n",
    "plt.plot(k, phi_k)\n",
    "plt.xlabel('Energy [keV]')\n",
    "plt.ylabel('Differential fluence [cm$^{-2}$ keV$^{-1}$]')\n",
    "plt.title('An example x-ray spectrum')\n",
    "plt.show()\n",
    "\n",
    "print('\\nfinished!\\n')"
   ]
  },
  {
   "cell_type": "code",
   "execution_count": null,
   "id": "73fdf48d",
   "metadata": {},
   "outputs": [],
   "source": []
  }
 ],
 "metadata": {
  "kernelspec": {
   "display_name": "Python 3 (ipykernel)",
   "language": "python",
   "name": "python3"
  },
  "language_info": {
   "codemirror_mode": {
    "name": "ipython",
    "version": 3
   },
   "file_extension": ".py",
   "mimetype": "text/x-python",
   "name": "python",
   "nbconvert_exporter": "python",
   "pygments_lexer": "ipython3",
   "version": "3.13.9"
  }
 },
 "nbformat": 4,
 "nbformat_minor": 5
}
